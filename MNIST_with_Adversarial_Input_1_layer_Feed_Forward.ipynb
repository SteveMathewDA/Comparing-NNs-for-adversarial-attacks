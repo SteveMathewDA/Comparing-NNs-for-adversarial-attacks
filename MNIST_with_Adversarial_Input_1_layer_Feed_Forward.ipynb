{
  "cells": [
    {
      "cell_type": "code",
      "execution_count": null,
      "id": "6ee4d597",
      "metadata": {
        "id": "6ee4d597",
        "outputId": "ca0e9d32-16bc-4f6b-cb62-d34db708ad84",
        "colab": {
          "base_uri": "https://localhost:8080/"
        }
      },
      "outputs": [
        {
          "output_type": "stream",
          "name": "stdout",
          "text": [
            "Looking in indexes: https://pypi.org/simple, https://us-python.pkg.dev/colab-wheels/public/simple/\n",
            "Requirement already satisfied: adversarial-robustness-toolbox in /usr/local/lib/python3.7/dist-packages (1.11.1)\n",
            "Requirement already satisfied: six in /usr/local/lib/python3.7/dist-packages (from adversarial-robustness-toolbox) (1.15.0)\n",
            "Requirement already satisfied: numpy>=1.18.0 in /usr/local/lib/python3.7/dist-packages (from adversarial-robustness-toolbox) (1.21.6)\n",
            "Requirement already satisfied: scikit-learn<1.1.0,>=0.22.2 in /usr/local/lib/python3.7/dist-packages (from adversarial-robustness-toolbox) (1.0.2)\n",
            "Requirement already satisfied: numba>=0.53.1 in /usr/local/lib/python3.7/dist-packages (from adversarial-robustness-toolbox) (0.56.2)\n",
            "Requirement already satisfied: setuptools in /usr/local/lib/python3.7/dist-packages (from adversarial-robustness-toolbox) (57.4.0)\n",
            "Requirement already satisfied: tqdm in /usr/local/lib/python3.7/dist-packages (from adversarial-robustness-toolbox) (4.64.1)\n",
            "Requirement already satisfied: scipy>=1.4.1 in /usr/local/lib/python3.7/dist-packages (from adversarial-robustness-toolbox) (1.7.3)\n",
            "Requirement already satisfied: importlib-metadata in /usr/local/lib/python3.7/dist-packages (from numba>=0.53.1->adversarial-robustness-toolbox) (4.12.0)\n",
            "Requirement already satisfied: llvmlite<0.40,>=0.39.0dev0 in /usr/local/lib/python3.7/dist-packages (from numba>=0.53.1->adversarial-robustness-toolbox) (0.39.1)\n",
            "Requirement already satisfied: joblib>=0.11 in /usr/local/lib/python3.7/dist-packages (from scikit-learn<1.1.0,>=0.22.2->adversarial-robustness-toolbox) (1.1.0)\n",
            "Requirement already satisfied: threadpoolctl>=2.0.0 in /usr/local/lib/python3.7/dist-packages (from scikit-learn<1.1.0,>=0.22.2->adversarial-robustness-toolbox) (3.1.0)\n",
            "Requirement already satisfied: zipp>=0.5 in /usr/local/lib/python3.7/dist-packages (from importlib-metadata->numba>=0.53.1->adversarial-robustness-toolbox) (3.8.1)\n",
            "Requirement already satisfied: typing-extensions>=3.6.4 in /usr/local/lib/python3.7/dist-packages (from importlib-metadata->numba>=0.53.1->adversarial-robustness-toolbox) (4.1.1)\n"
          ]
        }
      ],
      "source": [
        "!pip install adversarial-robustness-toolbox\n",
        "\n",
        "import torch\n",
        "import torchvision\n",
        "import numpy as np\n",
        "import matplotlib\n",
        "import matplotlib.pyplot as plt\n",
        "import torch.nn as nn\n",
        "import torch.nn.functional as F\n",
        "from torchvision.datasets import MNIST\n",
        "from torchvision.transforms import ToTensor\n",
        "from torchvision.utils import make_grid\n",
        "from torch.utils.data.dataloader import DataLoader\n",
        "from torch.utils.data import random_split\n",
        "%matplotlib inline\n",
        "\n",
        "import torch.optim as optim\n",
        "import numpy as np\n",
        "\n",
        "from art.attacks.evasion import FastGradientMethod\n",
        "from art.estimators.classification import PyTorchClassifier\n",
        "from art.utils import load_mnist\n",
        "\n",
        "import os\n",
        "user = os.uname().nodename\n",
        "import datetime\n",
        "e = datetime.datetime.now()\n",
        "\n",
        "import pandas as pd\n",
        "\n",
        "matplotlib.rcParams['figure.facecolor'] = '#ffffff'"
      ]
    },
    {
      "cell_type": "code",
      "execution_count": null,
      "id": "c22bd6a4",
      "metadata": {
        "id": "c22bd6a4"
      },
      "outputs": [],
      "source": [
        "dataset = MNIST(root='data/', download=True, transform=ToTensor())"
      ]
    },
    {
      "cell_type": "code",
      "execution_count": null,
      "id": "db7de63b",
      "metadata": {
        "id": "db7de63b",
        "outputId": "ca58d607-05f4-47e9-a060-0dc9693a6f5d",
        "colab": {
          "base_uri": "https://localhost:8080/"
        }
      },
      "outputs": [
        {
          "output_type": "execute_result",
          "data": {
            "text/plain": [
              "(50000, 10000)"
            ]
          },
          "metadata": {},
          "execution_count": 3
        }
      ],
      "source": [
        "val_size = 10000\n",
        "train_size = len(dataset) - val_size\n",
        "\n",
        "train_ds, val_ds = random_split(dataset, [train_size, val_size])\n",
        "len(train_ds), len(val_ds)"
      ]
    },
    {
      "cell_type": "code",
      "execution_count": null,
      "id": "967df578",
      "metadata": {
        "id": "967df578",
        "colab": {
          "base_uri": "https://localhost:8080/"
        },
        "outputId": "a3932348-fba3-417f-a9bb-93b0f1a2cd08"
      },
      "outputs": [
        {
          "output_type": "stream",
          "name": "stderr",
          "text": [
            "/usr/local/lib/python3.7/dist-packages/torch/utils/data/dataloader.py:566: UserWarning: This DataLoader will create 4 worker processes in total. Our suggested max number of worker in current system is 2, which is smaller than what this DataLoader is going to create. Please be aware that excessive worker creation might get DataLoader running slow or even freeze, lower the worker number to avoid potential slowness/freeze if necessary.\n",
            "  cpuset_checked))\n"
          ]
        }
      ],
      "source": [
        "batch_size=128\n",
        "train_loader = DataLoader(train_ds, batch_size, shuffle=True, num_workers=4, pin_memory=True)\n",
        "val_loader = DataLoader(val_ds, batch_size*2, num_workers=4, pin_memory=True)"
      ]
    },
    {
      "cell_type": "code",
      "execution_count": null,
      "id": "ff51a2d7",
      "metadata": {
        "id": "ff51a2d7",
        "outputId": "9f4a1dec-7e6b-4a0f-b680-91ae111568f2",
        "colab": {
          "base_uri": "https://localhost:8080/"
        }
      },
      "outputs": [
        {
          "output_type": "stream",
          "name": "stdout",
          "text": [
            "images.shape: torch.Size([128, 1, 28, 28])\n",
            "inputs.shape: torch.Size([128, 784])\n"
          ]
        }
      ],
      "source": [
        "for images, labels in train_loader:\n",
        "    print('images.shape:', images.shape)\n",
        "    inputs = images.reshape(-1, 784)\n",
        "    print('inputs.shape:', inputs.shape)\n",
        "    break"
      ]
    },
    {
      "cell_type": "code",
      "execution_count": null,
      "id": "78ac6145",
      "metadata": {
        "id": "78ac6145",
        "outputId": "6dcad027-22cf-4e6d-cbef-6e201df85e8e",
        "colab": {
          "base_uri": "https://localhost:8080/"
        }
      },
      "outputs": [
        {
          "output_type": "execute_result",
          "data": {
            "text/plain": [
              "torch.Size([128, 784])"
            ]
          },
          "metadata": {},
          "execution_count": 6
        }
      ],
      "source": [
        "input_size = inputs.shape[-1]\n",
        "hidden_size = 32\n",
        "layer1 = nn.Linear(input_size, hidden_size)\n",
        "inputs.shape"
      ]
    },
    {
      "cell_type": "code",
      "execution_count": null,
      "id": "3427fae6",
      "metadata": {
        "id": "3427fae6",
        "outputId": "ea215289-164d-4a18-f69d-5a420966b850",
        "colab": {
          "base_uri": "https://localhost:8080/"
        }
      },
      "outputs": [
        {
          "output_type": "stream",
          "name": "stdout",
          "text": [
            "layer1_outputs.shape: torch.Size([128, 32])\n"
          ]
        }
      ],
      "source": [
        "layer1_outputs = layer1(inputs)\n",
        "print('layer1_outputs.shape:', layer1_outputs.shape)\n"
      ]
    },
    {
      "cell_type": "code",
      "execution_count": null,
      "id": "f29afd16",
      "metadata": {
        "id": "f29afd16",
        "outputId": "3fbeaed1-da78-43a4-806d-63e384fe747f",
        "colab": {
          "base_uri": "https://localhost:8080/"
        }
      },
      "outputs": [
        {
          "output_type": "execute_result",
          "data": {
            "text/plain": [
              "torch.Size([128, 32])"
            ]
          },
          "metadata": {},
          "execution_count": 8
        }
      ],
      "source": [
        "layer1_outputs_direct = inputs @ layer1.weight.t() + layer1.bias\n",
        "layer1_outputs_direct.shape"
      ]
    },
    {
      "cell_type": "code",
      "execution_count": null,
      "id": "2847c06f",
      "metadata": {
        "id": "2847c06f",
        "outputId": "11cbedd0-8ab5-48e4-c0f1-3202f03c9401",
        "colab": {
          "base_uri": "https://localhost:8080/"
        }
      },
      "outputs": [
        {
          "output_type": "execute_result",
          "data": {
            "text/plain": [
              "True"
            ]
          },
          "metadata": {},
          "execution_count": 9
        }
      ],
      "source": [
        "torch.allclose(layer1_outputs, layer1_outputs_direct, 1e-3)"
      ]
    },
    {
      "cell_type": "code",
      "execution_count": null,
      "id": "e63b5cde",
      "metadata": {
        "id": "e63b5cde",
        "outputId": "e3ea8a4d-8e00-49cf-f33e-5deff3433c85",
        "colab": {
          "base_uri": "https://localhost:8080/"
        }
      },
      "outputs": [
        {
          "output_type": "stream",
          "name": "stdout",
          "text": [
            "min(layer1_outputs): -0.7777019739151001\n",
            "min(relu_outputs): 0.0\n"
          ]
        }
      ],
      "source": [
        "relu_outputs = F.relu(layer1_outputs)\n",
        "print('min(layer1_outputs):', torch.min(layer1_outputs).item())\n",
        "print('min(relu_outputs):', torch.min(relu_outputs).item())"
      ]
    },
    {
      "cell_type": "code",
      "execution_count": null,
      "id": "1a6098e4",
      "metadata": {
        "id": "1a6098e4"
      },
      "outputs": [],
      "source": [
        "output_size = 10\n",
        "layer2 = nn.Linear(hidden_size, output_size)"
      ]
    },
    {
      "cell_type": "code",
      "execution_count": null,
      "id": "0c35541c",
      "metadata": {
        "id": "0c35541c",
        "outputId": "defc2c74-3339-4d4b-c670-8ab355175f45",
        "colab": {
          "base_uri": "https://localhost:8080/"
        }
      },
      "outputs": [
        {
          "output_type": "stream",
          "name": "stdout",
          "text": [
            "torch.Size([128, 10])\n"
          ]
        }
      ],
      "source": [
        "layer2_outputs = layer2(relu_outputs)\n",
        "print(layer2_outputs.shape)"
      ]
    },
    {
      "cell_type": "code",
      "execution_count": null,
      "id": "1ea5d72b",
      "metadata": {
        "id": "1ea5d72b",
        "outputId": "901b4934-9472-41b2-9bd0-262208c8efbe",
        "colab": {
          "base_uri": "https://localhost:8080/"
        }
      },
      "outputs": [
        {
          "output_type": "execute_result",
          "data": {
            "text/plain": [
              "torch.Size([128, 784])"
            ]
          },
          "metadata": {},
          "execution_count": 13
        }
      ],
      "source": [
        "inputs.shape"
      ]
    },
    {
      "cell_type": "code",
      "execution_count": null,
      "id": "beedb4a9",
      "metadata": {
        "id": "beedb4a9"
      },
      "outputs": [],
      "source": [
        "F.cross_entropy(layer2_outputs, labels)\n",
        "\n",
        "outputs = (F.relu(inputs @ layer1.weight.t() + layer1.bias)) @ layer2.weight.t() + layer2.bias"
      ]
    },
    {
      "cell_type": "code",
      "execution_count": null,
      "id": "dd8851f4",
      "metadata": {
        "id": "dd8851f4",
        "outputId": "1595d06a-8bfc-49ab-8061-e5abc8bc3a23",
        "colab": {
          "base_uri": "https://localhost:8080/"
        }
      },
      "outputs": [
        {
          "output_type": "execute_result",
          "data": {
            "text/plain": [
              "True"
            ]
          },
          "metadata": {},
          "execution_count": 15
        }
      ],
      "source": [
        "torch.allclose(outputs, layer2_outputs, 1e-3)"
      ]
    },
    {
      "cell_type": "code",
      "execution_count": null,
      "id": "c1987f78",
      "metadata": {
        "id": "c1987f78"
      },
      "outputs": [],
      "source": [
        "# Same as layer2(layer1(inputs))\n",
        "outputs2 = (inputs @ layer1.weight.t() + layer1.bias) @ layer2.weight.t() + layer2.bias"
      ]
    },
    {
      "cell_type": "code",
      "execution_count": null,
      "id": "ffa331bc",
      "metadata": {
        "id": "ffa331bc"
      },
      "outputs": [],
      "source": [
        "# Create a single layer to replace the two linear layers\n",
        "combined_layer = nn.Linear(input_size, output_size)\n",
        "\n",
        "combined_layer.weight.data = layer2.weight @ layer1.weight\n",
        "combined_layer.bias.data = layer1.bias @ layer2.weight.t() + layer2.bias"
      ]
    },
    {
      "cell_type": "code",
      "execution_count": null,
      "id": "117c2cfb",
      "metadata": {
        "id": "117c2cfb"
      },
      "outputs": [],
      "source": [
        "# Same as combined_layer(inputs)\n",
        "outputs3 = inputs @ combined_layer.weight.t() + combined_layer.bias"
      ]
    },
    {
      "cell_type": "code",
      "execution_count": null,
      "id": "b8fa021c",
      "metadata": {
        "id": "b8fa021c",
        "outputId": "a5917db6-61e0-4915-971f-c1b0c368e906",
        "colab": {
          "base_uri": "https://localhost:8080/"
        }
      },
      "outputs": [
        {
          "output_type": "execute_result",
          "data": {
            "text/plain": [
              "True"
            ]
          },
          "metadata": {},
          "execution_count": 19
        }
      ],
      "source": [
        "torch.allclose(outputs2, outputs3, 1e-3)"
      ]
    },
    {
      "cell_type": "code",
      "execution_count": null,
      "id": "365bfd32",
      "metadata": {
        "id": "365bfd32"
      },
      "outputs": [],
      "source": [
        "class MnistModel(nn.Module):\n",
        "    \"\"\"Feedfoward neural network with 1 hidden layer\"\"\"\n",
        "    def __init__(self, in_size, hidden_size, out_size):\n",
        "        super().__init__()\n",
        "        # hidden layer\n",
        "        self.linear1 = nn.Linear(in_size, hidden_size)\n",
        "        # output layer\n",
        "        self.linear2 = nn.Linear(hidden_size, out_size)\n",
        "        \n",
        "    def forward(self, xb):\n",
        "        # Flatten the image tensors\n",
        "        xb = xb.view(xb.size(0), -1)\n",
        "        # Get intermediate outputs using hidden layer\n",
        "        out = self.linear1(xb)\n",
        "        # Apply activation function\n",
        "        out = F.relu(out)\n",
        "        # Get predictions using output layer\n",
        "        out = self.linear2(out)\n",
        "        return out\n",
        "    \n",
        "    def training_step(self, batch):\n",
        "        images, labels = batch \n",
        "        out = self(images)                  \n",
        "        loss = F.cross_entropy(out, labels) \n",
        "        return loss\n",
        "    \n",
        "    def validation_step(self, batch):\n",
        "        images, labels = batch \n",
        "        out = self(images)                   \n",
        "        loss = F.cross_entropy(out, labels)   \n",
        "        acc = accuracy(out, labels)           \n",
        "        return {'val_loss': loss, 'val_acc': acc}\n",
        "        \n",
        "    def validation_epoch_end(self, outputs):\n",
        "        batch_losses = [x['val_loss'] for x in outputs]\n",
        "        epoch_loss = torch.stack(batch_losses).mean()   \n",
        "        batch_accs = [x['val_acc'] for x in outputs]\n",
        "        epoch_acc = torch.stack(batch_accs).mean()      \n",
        "        return {'val_loss': epoch_loss.item(), 'val_acc': epoch_acc.item()}\n",
        "    \n",
        "    def epoch_end(self, epoch, result):\n",
        "        print(\"Epoch [{}], val_loss: {:.4f}, val_acc: {:.4f}\".format(epoch, result['val_loss'], result['val_acc']))"
      ]
    },
    {
      "cell_type": "code",
      "execution_count": null,
      "id": "982cb3eb",
      "metadata": {
        "id": "982cb3eb"
      },
      "outputs": [],
      "source": [
        "def accuracy(outputs, labels):\n",
        "    _, preds = torch.max(outputs, dim=1)\n",
        "    return torch.tensor(torch.sum(preds == labels).item() / len(preds))"
      ]
    },
    {
      "cell_type": "code",
      "execution_count": null,
      "id": "b2c165ec",
      "metadata": {
        "id": "b2c165ec"
      },
      "outputs": [],
      "source": [
        "input_size = 784\n",
        "hidden_size = 256\n",
        "num_classes = 10"
      ]
    },
    {
      "cell_type": "code",
      "execution_count": null,
      "id": "aea50264",
      "metadata": {
        "id": "aea50264"
      },
      "outputs": [],
      "source": [
        "model = MnistModel(input_size, hidden_size, out_size=num_classes)"
      ]
    },
    {
      "cell_type": "code",
      "execution_count": null,
      "id": "f0b3bf87",
      "metadata": {
        "id": "f0b3bf87"
      },
      "outputs": [],
      "source": [
        "(x_train, y_train), (x_test, y_test), min_pixel_value, max_pixel_value = load_mnist()\n",
        "\n",
        "x_train = np.transpose(x_train, (0, 3, 1, 2)).astype(np.float32)\n",
        "x_test = np.transpose(x_test, (0, 3, 1, 2)).astype(np.float32)"
      ]
    },
    {
      "cell_type": "code",
      "execution_count": null,
      "id": "e8c9ae7a",
      "metadata": {
        "id": "e8c9ae7a"
      },
      "outputs": [],
      "source": [
        "testno = 0\n",
        "log_2layers = {}\n",
        "log2layers = {}\n",
        "num_epochs = 1\n",
        "learning_rate = 0.01"
      ]
    },
    {
      "cell_type": "code",
      "execution_count": null,
      "id": "4e705810",
      "metadata": {
        "id": "4e705810"
      },
      "outputs": [],
      "source": [
        "criterion = nn.CrossEntropyLoss()\n",
        "optimizer = optim.Adam(model.parameters(), lr=learning_rate)"
      ]
    },
    {
      "cell_type": "code",
      "execution_count": null,
      "id": "3db6ff92",
      "metadata": {
        "id": "3db6ff92"
      },
      "outputs": [],
      "source": [
        "def accuracy(predictions):\n",
        "    return (np.sum(np.argmax(predictions, axis=1) == np.argmax(y_test, axis=1)) / len(y_test))"
      ]
    },
    {
      "cell_type": "code",
      "execution_count": null,
      "id": "ac172434",
      "metadata": {
        "id": "ac172434"
      },
      "outputs": [],
      "source": [
        "classifier = PyTorchClassifier(\n",
        "    model=model,\n",
        "    clip_values=(min_pixel_value, max_pixel_value),\n",
        "    loss=criterion,\n",
        "    optimizer=optimizer,\n",
        "    input_shape=(1, 28, 28),\n",
        "    nb_classes=10,\n",
        ")\n"
      ]
    },
    {
      "cell_type": "code",
      "execution_count": null,
      "id": "9f653776",
      "metadata": {
        "id": "9f653776"
      },
      "outputs": [],
      "source": [
        "def trainandtest(n):\n",
        "    for i in range(n):\n",
        "        global testno\n",
        "        testno+=1\n",
        "        classifier.fit(x_train, y_train, batch_size=128, nb_epochs=num_epochs)\n",
        "        benign_predictions = classifier.predict(x_test)\n",
        "        benign_accuracy = accuracy(benign_predictions)*100\n",
        "        \n",
        "        attack = FastGradientMethod(estimator=classifier, eps=3)\n",
        "        x_test_adv = attack.generate(x=x_test)\n",
        "        \n",
        "        \n",
        "        adv_predictions = classifier.predict(x_test_adv)\n",
        "        adv_accuracy = accuracy(adv_predictions) * 100\n",
        "        log2layers[testno] = {'Test Number':testno,\n",
        "                              'Learning Rate': learning_rate,\n",
        "                              'Number of Epochs':num_epochs,\n",
        "                              'Accuracy with Benign Test Set':benign_accuracy,\n",
        "                              'Accuracy with Adversarial Test Set':adv_accuracy,\n",
        "                             'Machine':user\n",
        "                             }\n",
        "        print(\"iteration \",i+1,\" over\")"
      ]
    },
    {
      "cell_type": "code",
      "execution_count": null,
      "id": "00759015",
      "metadata": {
        "id": "00759015",
        "outputId": "b4a0e217-9953-4143-dbfe-443210a1a797",
        "colab": {
          "base_uri": "https://localhost:8080/"
        }
      },
      "outputs": [
        {
          "output_type": "stream",
          "name": "stdout",
          "text": [
            "iteration  1  over\n",
            "iteration  2  over\n",
            "iteration  3  over\n",
            "iteration  4  over\n",
            "iteration  5  over\n",
            "iteration  6  over\n",
            "iteration  7  over\n",
            "iteration  8  over\n",
            "iteration  9  over\n",
            "iteration  10  over\n",
            "iteration  11  over\n",
            "iteration  12  over\n",
            "iteration  13  over\n",
            "iteration  14  over\n",
            "iteration  15  over\n",
            "iteration  16  over\n",
            "iteration  17  over\n",
            "iteration  18  over\n",
            "iteration  19  over\n",
            "iteration  20  over\n",
            "iteration  21  over\n",
            "iteration  22  over\n",
            "iteration  23  over\n",
            "iteration  24  over\n",
            "iteration  25  over\n",
            "iteration  26  over\n",
            "iteration  27  over\n",
            "iteration  28  over\n",
            "iteration  29  over\n",
            "iteration  30  over\n",
            "iteration  31  over\n",
            "iteration  32  over\n",
            "iteration  33  over\n",
            "iteration  34  over\n",
            "iteration  35  over\n",
            "iteration  36  over\n",
            "iteration  37  over\n",
            "iteration  38  over\n",
            "iteration  39  over\n",
            "iteration  40  over\n",
            "iteration  41  over\n",
            "iteration  42  over\n",
            "iteration  43  over\n",
            "iteration  44  over\n",
            "iteration  45  over\n",
            "iteration  46  over\n",
            "iteration  47  over\n",
            "iteration  48  over\n",
            "iteration  49  over\n",
            "iteration  50  over\n",
            "iteration  51  over\n",
            "iteration  52  over\n",
            "iteration  53  over\n",
            "iteration  54  over\n",
            "iteration  55  over\n",
            "iteration  56  over\n",
            "iteration  57  over\n",
            "iteration  58  over\n",
            "iteration  59  over\n",
            "iteration  60  over\n",
            "iteration  61  over\n",
            "iteration  62  over\n",
            "iteration  63  over\n",
            "iteration  64  over\n",
            "iteration  65  over\n",
            "iteration  66  over\n",
            "iteration  67  over\n",
            "iteration  68  over\n",
            "iteration  69  over\n",
            "iteration  70  over\n",
            "iteration  71  over\n",
            "iteration  72  over\n",
            "iteration  73  over\n",
            "iteration  74  over\n",
            "iteration  75  over\n",
            "iteration  76  over\n",
            "iteration  77  over\n",
            "iteration  78  over\n",
            "iteration  79  over\n",
            "iteration  80  over\n",
            "iteration  81  over\n",
            "iteration  82  over\n",
            "iteration  83  over\n",
            "iteration  84  over\n",
            "iteration  85  over\n",
            "iteration  86  over\n",
            "iteration  87  over\n",
            "iteration  88  over\n",
            "iteration  89  over\n",
            "iteration  90  over\n",
            "iteration  91  over\n",
            "iteration  92  over\n",
            "iteration  93  over\n",
            "iteration  94  over\n",
            "iteration  95  over\n",
            "iteration  96  over\n",
            "iteration  97  over\n",
            "iteration  98  over\n",
            "iteration  99  over\n",
            "iteration  100  over\n"
          ]
        }
      ],
      "source": [
        "trainandtest(100)"
      ]
    },
    {
      "cell_type": "code",
      "execution_count": null,
      "id": "4d690097",
      "metadata": {
        "id": "4d690097",
        "outputId": "255668f5-9a9d-4777-922e-eb5fddc21a5f",
        "colab": {
          "base_uri": "https://localhost:8080/",
          "height": 424
        }
      },
      "outputs": [
        {
          "output_type": "execute_result",
          "data": {
            "text/plain": [
              "    Test Number Learning Rate Number of Epochs Accuracy with Benign Test Set  \\\n",
              "1             1          0.01                1                         96.01   \n",
              "2             2          0.01                1                          96.2   \n",
              "3             3          0.01                1                         97.03   \n",
              "4             4          0.01                1                         97.31   \n",
              "5             5          0.01                1                         97.07   \n",
              "..          ...           ...              ...                           ...   \n",
              "96           96          0.01                1                         97.66   \n",
              "97           97          0.01                1                         97.66   \n",
              "98           98          0.01                1                          97.8   \n",
              "99           99          0.01                1                         97.84   \n",
              "100         100          0.01                1                          97.6   \n",
              "\n",
              "    Accuracy with Adversarial Test Set       Machine  \n",
              "1                                 1.71  d4e1a77169d3  \n",
              "2                                 1.76  d4e1a77169d3  \n",
              "3                                 1.83  d4e1a77169d3  \n",
              "4                                 2.44  d4e1a77169d3  \n",
              "5                                 2.98  d4e1a77169d3  \n",
              "..                                 ...           ...  \n",
              "96                               86.71  d4e1a77169d3  \n",
              "97                               85.49  d4e1a77169d3  \n",
              "98                               88.71  d4e1a77169d3  \n",
              "99                               87.24  d4e1a77169d3  \n",
              "100                              88.11  d4e1a77169d3  \n",
              "\n",
              "[100 rows x 6 columns]"
            ],
            "text/html": [
              "\n",
              "  <div id=\"df-b2b34716-7b71-459b-87b3-5a9cf2edb9fc\">\n",
              "    <div class=\"colab-df-container\">\n",
              "      <div>\n",
              "<style scoped>\n",
              "    .dataframe tbody tr th:only-of-type {\n",
              "        vertical-align: middle;\n",
              "    }\n",
              "\n",
              "    .dataframe tbody tr th {\n",
              "        vertical-align: top;\n",
              "    }\n",
              "\n",
              "    .dataframe thead th {\n",
              "        text-align: right;\n",
              "    }\n",
              "</style>\n",
              "<table border=\"1\" class=\"dataframe\">\n",
              "  <thead>\n",
              "    <tr style=\"text-align: right;\">\n",
              "      <th></th>\n",
              "      <th>Test Number</th>\n",
              "      <th>Learning Rate</th>\n",
              "      <th>Number of Epochs</th>\n",
              "      <th>Accuracy with Benign Test Set</th>\n",
              "      <th>Accuracy with Adversarial Test Set</th>\n",
              "      <th>Machine</th>\n",
              "    </tr>\n",
              "  </thead>\n",
              "  <tbody>\n",
              "    <tr>\n",
              "      <th>1</th>\n",
              "      <td>1</td>\n",
              "      <td>0.01</td>\n",
              "      <td>1</td>\n",
              "      <td>96.01</td>\n",
              "      <td>1.71</td>\n",
              "      <td>d4e1a77169d3</td>\n",
              "    </tr>\n",
              "    <tr>\n",
              "      <th>2</th>\n",
              "      <td>2</td>\n",
              "      <td>0.01</td>\n",
              "      <td>1</td>\n",
              "      <td>96.2</td>\n",
              "      <td>1.76</td>\n",
              "      <td>d4e1a77169d3</td>\n",
              "    </tr>\n",
              "    <tr>\n",
              "      <th>3</th>\n",
              "      <td>3</td>\n",
              "      <td>0.01</td>\n",
              "      <td>1</td>\n",
              "      <td>97.03</td>\n",
              "      <td>1.83</td>\n",
              "      <td>d4e1a77169d3</td>\n",
              "    </tr>\n",
              "    <tr>\n",
              "      <th>4</th>\n",
              "      <td>4</td>\n",
              "      <td>0.01</td>\n",
              "      <td>1</td>\n",
              "      <td>97.31</td>\n",
              "      <td>2.44</td>\n",
              "      <td>d4e1a77169d3</td>\n",
              "    </tr>\n",
              "    <tr>\n",
              "      <th>5</th>\n",
              "      <td>5</td>\n",
              "      <td>0.01</td>\n",
              "      <td>1</td>\n",
              "      <td>97.07</td>\n",
              "      <td>2.98</td>\n",
              "      <td>d4e1a77169d3</td>\n",
              "    </tr>\n",
              "    <tr>\n",
              "      <th>...</th>\n",
              "      <td>...</td>\n",
              "      <td>...</td>\n",
              "      <td>...</td>\n",
              "      <td>...</td>\n",
              "      <td>...</td>\n",
              "      <td>...</td>\n",
              "    </tr>\n",
              "    <tr>\n",
              "      <th>96</th>\n",
              "      <td>96</td>\n",
              "      <td>0.01</td>\n",
              "      <td>1</td>\n",
              "      <td>97.66</td>\n",
              "      <td>86.71</td>\n",
              "      <td>d4e1a77169d3</td>\n",
              "    </tr>\n",
              "    <tr>\n",
              "      <th>97</th>\n",
              "      <td>97</td>\n",
              "      <td>0.01</td>\n",
              "      <td>1</td>\n",
              "      <td>97.66</td>\n",
              "      <td>85.49</td>\n",
              "      <td>d4e1a77169d3</td>\n",
              "    </tr>\n",
              "    <tr>\n",
              "      <th>98</th>\n",
              "      <td>98</td>\n",
              "      <td>0.01</td>\n",
              "      <td>1</td>\n",
              "      <td>97.8</td>\n",
              "      <td>88.71</td>\n",
              "      <td>d4e1a77169d3</td>\n",
              "    </tr>\n",
              "    <tr>\n",
              "      <th>99</th>\n",
              "      <td>99</td>\n",
              "      <td>0.01</td>\n",
              "      <td>1</td>\n",
              "      <td>97.84</td>\n",
              "      <td>87.24</td>\n",
              "      <td>d4e1a77169d3</td>\n",
              "    </tr>\n",
              "    <tr>\n",
              "      <th>100</th>\n",
              "      <td>100</td>\n",
              "      <td>0.01</td>\n",
              "      <td>1</td>\n",
              "      <td>97.6</td>\n",
              "      <td>88.11</td>\n",
              "      <td>d4e1a77169d3</td>\n",
              "    </tr>\n",
              "  </tbody>\n",
              "</table>\n",
              "<p>100 rows × 6 columns</p>\n",
              "</div>\n",
              "      <button class=\"colab-df-convert\" onclick=\"convertToInteractive('df-b2b34716-7b71-459b-87b3-5a9cf2edb9fc')\"\n",
              "              title=\"Convert this dataframe to an interactive table.\"\n",
              "              style=\"display:none;\">\n",
              "        \n",
              "  <svg xmlns=\"http://www.w3.org/2000/svg\" height=\"24px\"viewBox=\"0 0 24 24\"\n",
              "       width=\"24px\">\n",
              "    <path d=\"M0 0h24v24H0V0z\" fill=\"none\"/>\n",
              "    <path d=\"M18.56 5.44l.94 2.06.94-2.06 2.06-.94-2.06-.94-.94-2.06-.94 2.06-2.06.94zm-11 1L8.5 8.5l.94-2.06 2.06-.94-2.06-.94L8.5 2.5l-.94 2.06-2.06.94zm10 10l.94 2.06.94-2.06 2.06-.94-2.06-.94-.94-2.06-.94 2.06-2.06.94z\"/><path d=\"M17.41 7.96l-1.37-1.37c-.4-.4-.92-.59-1.43-.59-.52 0-1.04.2-1.43.59L10.3 9.45l-7.72 7.72c-.78.78-.78 2.05 0 2.83L4 21.41c.39.39.9.59 1.41.59.51 0 1.02-.2 1.41-.59l7.78-7.78 2.81-2.81c.8-.78.8-2.07 0-2.86zM5.41 20L4 18.59l7.72-7.72 1.47 1.35L5.41 20z\"/>\n",
              "  </svg>\n",
              "      </button>\n",
              "      \n",
              "  <style>\n",
              "    .colab-df-container {\n",
              "      display:flex;\n",
              "      flex-wrap:wrap;\n",
              "      gap: 12px;\n",
              "    }\n",
              "\n",
              "    .colab-df-convert {\n",
              "      background-color: #E8F0FE;\n",
              "      border: none;\n",
              "      border-radius: 50%;\n",
              "      cursor: pointer;\n",
              "      display: none;\n",
              "      fill: #1967D2;\n",
              "      height: 32px;\n",
              "      padding: 0 0 0 0;\n",
              "      width: 32px;\n",
              "    }\n",
              "\n",
              "    .colab-df-convert:hover {\n",
              "      background-color: #E2EBFA;\n",
              "      box-shadow: 0px 1px 2px rgba(60, 64, 67, 0.3), 0px 1px 3px 1px rgba(60, 64, 67, 0.15);\n",
              "      fill: #174EA6;\n",
              "    }\n",
              "\n",
              "    [theme=dark] .colab-df-convert {\n",
              "      background-color: #3B4455;\n",
              "      fill: #D2E3FC;\n",
              "    }\n",
              "\n",
              "    [theme=dark] .colab-df-convert:hover {\n",
              "      background-color: #434B5C;\n",
              "      box-shadow: 0px 1px 3px 1px rgba(0, 0, 0, 0.15);\n",
              "      filter: drop-shadow(0px 1px 2px rgba(0, 0, 0, 0.3));\n",
              "      fill: #FFFFFF;\n",
              "    }\n",
              "  </style>\n",
              "\n",
              "      <script>\n",
              "        const buttonEl =\n",
              "          document.querySelector('#df-b2b34716-7b71-459b-87b3-5a9cf2edb9fc button.colab-df-convert');\n",
              "        buttonEl.style.display =\n",
              "          google.colab.kernel.accessAllowed ? 'block' : 'none';\n",
              "\n",
              "        async function convertToInteractive(key) {\n",
              "          const element = document.querySelector('#df-b2b34716-7b71-459b-87b3-5a9cf2edb9fc');\n",
              "          const dataTable =\n",
              "            await google.colab.kernel.invokeFunction('convertToInteractive',\n",
              "                                                     [key], {});\n",
              "          if (!dataTable) return;\n",
              "\n",
              "          const docLinkHtml = 'Like what you see? Visit the ' +\n",
              "            '<a target=\"_blank\" href=https://colab.research.google.com/notebooks/data_table.ipynb>data table notebook</a>'\n",
              "            + ' to learn more about interactive tables.';\n",
              "          element.innerHTML = '';\n",
              "          dataTable['output_type'] = 'display_data';\n",
              "          await google.colab.output.renderOutput(dataTable, element);\n",
              "          const docLink = document.createElement('div');\n",
              "          docLink.innerHTML = docLinkHtml;\n",
              "          element.appendChild(docLink);\n",
              "        }\n",
              "      </script>\n",
              "    </div>\n",
              "  </div>\n",
              "  "
            ]
          },
          "metadata": {},
          "execution_count": 31
        }
      ],
      "source": [
        "df = pd.DataFrame(data = log2layers)\n",
        "df.T"
      ]
    },
    {
      "cell_type": "code",
      "execution_count": null,
      "id": "4b4d101d",
      "metadata": {
        "id": "4b4d101d"
      },
      "outputs": [],
      "source": [
        "df.T.to_csv(r'output2.csv', index=False)"
      ]
    }
  ],
  "metadata": {
    "kernelspec": {
      "display_name": "Python 3",
      "language": "python",
      "name": "python3"
    },
    "language_info": {
      "codemirror_mode": {
        "name": "ipython",
        "version": 3
      },
      "file_extension": ".py",
      "mimetype": "text/x-python",
      "name": "python",
      "nbconvert_exporter": "python",
      "pygments_lexer": "ipython3",
      "version": "3.8.8"
    },
    "colab": {
      "provenance": []
    },
    "accelerator": "GPU",
    "gpuClass": "standard"
  },
  "nbformat": 4,
  "nbformat_minor": 5
}