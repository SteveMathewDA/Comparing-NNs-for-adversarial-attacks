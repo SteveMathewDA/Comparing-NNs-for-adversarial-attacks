{
  "cells": [
    {
      "cell_type": "code",
      "execution_count": null,
      "id": "32333df3",
      "metadata": {
        "colab": {
          "base_uri": "https://localhost:8080/"
        },
        "id": "32333df3",
        "outputId": "5638b593-3704-481d-c120-4ce351ba5e9f"
      },
      "outputs": [
        {
          "output_type": "stream",
          "name": "stdout",
          "text": [
            "Looking in indexes: https://pypi.org/simple, https://us-python.pkg.dev/colab-wheels/public/simple/\n",
            "Requirement already satisfied: adversarial-robustness-toolbox in /usr/local/lib/python3.7/dist-packages (1.11.0)\n",
            "Requirement already satisfied: setuptools in /usr/local/lib/python3.7/dist-packages (from adversarial-robustness-toolbox) (57.4.0)\n",
            "Requirement already satisfied: numpy>=1.18.0 in /usr/local/lib/python3.7/dist-packages (from adversarial-robustness-toolbox) (1.21.6)\n",
            "Requirement already satisfied: scipy>=1.4.1 in /usr/local/lib/python3.7/dist-packages (from adversarial-robustness-toolbox) (1.7.3)\n",
            "Requirement already satisfied: numba>=0.53.1 in /usr/local/lib/python3.7/dist-packages (from adversarial-robustness-toolbox) (0.56.0)\n",
            "Requirement already satisfied: tqdm in /usr/local/lib/python3.7/dist-packages (from adversarial-robustness-toolbox) (4.64.0)\n",
            "Requirement already satisfied: scikit-learn<1.1.0,>=0.22.2 in /usr/local/lib/python3.7/dist-packages (from adversarial-robustness-toolbox) (1.0.2)\n",
            "Requirement already satisfied: six in /usr/local/lib/python3.7/dist-packages (from adversarial-robustness-toolbox) (1.15.0)\n",
            "Requirement already satisfied: importlib-metadata in /usr/local/lib/python3.7/dist-packages (from numba>=0.53.1->adversarial-robustness-toolbox) (4.12.0)\n",
            "Requirement already satisfied: llvmlite<0.40,>=0.39.0dev0 in /usr/local/lib/python3.7/dist-packages (from numba>=0.53.1->adversarial-robustness-toolbox) (0.39.0)\n",
            "Requirement already satisfied: joblib>=0.11 in /usr/local/lib/python3.7/dist-packages (from scikit-learn<1.1.0,>=0.22.2->adversarial-robustness-toolbox) (1.1.0)\n",
            "Requirement already satisfied: threadpoolctl>=2.0.0 in /usr/local/lib/python3.7/dist-packages (from scikit-learn<1.1.0,>=0.22.2->adversarial-robustness-toolbox) (3.1.0)\n",
            "Requirement already satisfied: zipp>=0.5 in /usr/local/lib/python3.7/dist-packages (from importlib-metadata->numba>=0.53.1->adversarial-robustness-toolbox) (3.8.1)\n",
            "Requirement already satisfied: typing-extensions>=3.6.4 in /usr/local/lib/python3.7/dist-packages (from importlib-metadata->numba>=0.53.1->adversarial-robustness-toolbox) (4.1.1)\n"
          ]
        }
      ],
      "source": [
        "import torch\n",
        "import torchvision\n",
        "import numpy as np\n",
        "import matplotlib\n",
        "import matplotlib.pyplot as plt\n",
        "import torch.nn as nn\n",
        "import torch.nn.functional as F\n",
        "from torchvision.datasets import MNIST\n",
        "from torchvision.transforms import ToTensor\n",
        "from torchvision.utils import make_grid\n",
        "from torch.utils.data.dataloader import DataLoader\n",
        "from torch.utils.data import random_split\n",
        "%matplotlib inline\n",
        "import pandas as pd\n",
        "!pip install adversarial-robustness-toolbox\n",
        "import torch.optim as optim\n",
        "import numpy as np\n",
        "\n",
        "from art.attacks.evasion import FastGradientMethod\n",
        "from art.estimators.classification import PyTorchClassifier\n",
        "from art.utils import load_mnist\n",
        "\n",
        "\n",
        "\n",
        "matplotlib.rcParams['figure.facecolor'] = '#ffffff'\n",
        "import os\n",
        "user = os.uname().nodename\n",
        "import datetime\n"
      ]
    },
    {
      "cell_type": "code",
      "execution_count": null,
      "id": "26df92bd",
      "metadata": {
        "id": "26df92bd"
      },
      "outputs": [],
      "source": [
        "dataset = MNIST(root='data/', download=True, transform=ToTensor())"
      ]
    },
    {
      "cell_type": "code",
      "execution_count": null,
      "id": "6b3ebee6",
      "metadata": {
        "colab": {
          "base_uri": "https://localhost:8080/"
        },
        "id": "6b3ebee6",
        "outputId": "639e363c-e5be-435c-9ff3-912a587fa37a"
      },
      "outputs": [
        {
          "output_type": "execute_result",
          "data": {
            "text/plain": [
              "(50000, 10000)"
            ]
          },
          "metadata": {},
          "execution_count": 3
        }
      ],
      "source": [
        "val_size = 10000\n",
        "train_size = len(dataset) - val_size\n",
        "\n",
        "train_ds, val_ds = random_split(dataset, [train_size, val_size])\n",
        "len(train_ds), len(val_ds)"
      ]
    },
    {
      "cell_type": "code",
      "execution_count": null,
      "id": "b69eb9a4",
      "metadata": {
        "colab": {
          "base_uri": "https://localhost:8080/"
        },
        "id": "b69eb9a4",
        "outputId": "86965723-be15-4419-9c9a-2abcd1bf21ee"
      },
      "outputs": [
        {
          "output_type": "stream",
          "name": "stderr",
          "text": [
            "/usr/local/lib/python3.7/dist-packages/torch/utils/data/dataloader.py:566: UserWarning: This DataLoader will create 4 worker processes in total. Our suggested max number of worker in current system is 2, which is smaller than what this DataLoader is going to create. Please be aware that excessive worker creation might get DataLoader running slow or even freeze, lower the worker number to avoid potential slowness/freeze if necessary.\n",
            "  cpuset_checked))\n"
          ]
        }
      ],
      "source": [
        "batch_size=128\n",
        "train_loader = DataLoader(train_ds, batch_size, shuffle=True, num_workers=4, pin_memory=True)\n",
        "val_loader = DataLoader(val_ds, batch_size*2, num_workers=4, pin_memory=True)"
      ]
    },
    {
      "cell_type": "code",
      "execution_count": null,
      "id": "aef97d8a",
      "metadata": {
        "colab": {
          "base_uri": "https://localhost:8080/"
        },
        "id": "aef97d8a",
        "outputId": "acc7c140-a15d-430f-b70f-46f7486bf8ee"
      },
      "outputs": [
        {
          "output_type": "stream",
          "name": "stdout",
          "text": [
            "images.shape: torch.Size([128, 1, 28, 28])\n",
            "inputs.shape: torch.Size([128, 784])\n"
          ]
        },
        {
          "output_type": "stream",
          "name": "stderr",
          "text": [
            "Traceback (most recent call last):\n",
            "  File \"/usr/lib/python3.7/multiprocessing/queues.py\", line 242, in _feed\n",
            "    send_bytes(obj)\n",
            "  File \"/usr/lib/python3.7/multiprocessing/connection.py\", line 200, in send_bytes\n",
            "    self._send_bytes(m[offset:offset + size])\n",
            "  File \"/usr/lib/python3.7/multiprocessing/connection.py\", line 404, in _send_bytes\n",
            "    self._send(header + buf)\n",
            "  File \"/usr/lib/python3.7/multiprocessing/connection.py\", line 368, in _send\n",
            "    n = write(self._handle, buf)\n",
            "BrokenPipeError: [Errno 32] Broken pipe\n"
          ]
        }
      ],
      "source": [
        "for images, labels in train_loader:\n",
        "    print('images.shape:', images.shape)\n",
        "    inputs = images.reshape(-1, 784)\n",
        "    print('inputs.shape:', inputs.shape)\n",
        "    break"
      ]
    },
    {
      "cell_type": "code",
      "execution_count": null,
      "id": "7266c742",
      "metadata": {
        "colab": {
          "base_uri": "https://localhost:8080/"
        },
        "id": "7266c742",
        "outputId": "9759f1bf-e25c-4b40-c3fe-7c2e5235691e"
      },
      "outputs": [
        {
          "output_type": "execute_result",
          "data": {
            "text/plain": [
              "torch.Size([128, 784])"
            ]
          },
          "metadata": {},
          "execution_count": 6
        }
      ],
      "source": [
        "input_size = inputs.shape[-1]\n",
        "hidden1_size = 256\n",
        "layer1 = nn.Linear(input_size, hidden1_size)\n",
        "inputs.shape"
      ]
    },
    {
      "cell_type": "code",
      "execution_count": null,
      "id": "fc2286d5",
      "metadata": {
        "colab": {
          "base_uri": "https://localhost:8080/"
        },
        "id": "fc2286d5",
        "outputId": "6ad2ba4c-1e9b-446c-a770-e27335d8548a"
      },
      "outputs": [
        {
          "output_type": "stream",
          "name": "stdout",
          "text": [
            "layer1_outputs.shape: torch.Size([128, 256])\n"
          ]
        }
      ],
      "source": [
        "layer1_outputs = layer1(inputs)\n",
        "print('layer1_outputs.shape:', layer1_outputs.shape)"
      ]
    },
    {
      "cell_type": "code",
      "execution_count": null,
      "id": "53886483",
      "metadata": {
        "colab": {
          "base_uri": "https://localhost:8080/"
        },
        "id": "53886483",
        "outputId": "1344c42a-b3c6-4135-e3f7-26bd30810c34"
      },
      "outputs": [
        {
          "output_type": "execute_result",
          "data": {
            "text/plain": [
              "torch.Size([128, 256])"
            ]
          },
          "metadata": {},
          "execution_count": 8
        }
      ],
      "source": [
        "layer1_outputs_direct = inputs @ layer1.weight.t() + layer1.bias\n",
        "layer1_outputs_direct.shape"
      ]
    },
    {
      "cell_type": "code",
      "execution_count": null,
      "id": "df54005b",
      "metadata": {
        "colab": {
          "base_uri": "https://localhost:8080/"
        },
        "id": "df54005b",
        "outputId": "ab5db5fb-7b75-42dd-ddd4-28c2efae6d32"
      },
      "outputs": [
        {
          "output_type": "execute_result",
          "data": {
            "text/plain": [
              "True"
            ]
          },
          "metadata": {},
          "execution_count": 9
        }
      ],
      "source": [
        "torch.allclose(layer1_outputs, layer1_outputs_direct, 1e-3)"
      ]
    },
    {
      "cell_type": "code",
      "execution_count": null,
      "id": "3f1fc3c9",
      "metadata": {
        "colab": {
          "base_uri": "https://localhost:8080/"
        },
        "id": "3f1fc3c9",
        "outputId": "bd98a9f5-4044-41f7-c995-3032960ae70b"
      },
      "outputs": [
        {
          "output_type": "stream",
          "name": "stdout",
          "text": [
            "min(layer1_outputs): -0.7752687335014343\n",
            "min(relu1_outputs): 0.0\n"
          ]
        }
      ],
      "source": [
        "relu1_outputs = F.relu(layer1_outputs)\n",
        "print('min(layer1_outputs):', torch.min(layer1_outputs).item())\n",
        "print('min(relu1_outputs):', torch.min(relu1_outputs).item())"
      ]
    },
    {
      "cell_type": "code",
      "execution_count": null,
      "id": "9955c88b",
      "metadata": {
        "id": "9955c88b"
      },
      "outputs": [],
      "source": [
        "hidden2_size = 32\n",
        "layer2 = nn.Linear(hidden1_size, hidden2_size)"
      ]
    },
    {
      "cell_type": "code",
      "execution_count": null,
      "id": "3948ef19",
      "metadata": {
        "scrolled": true,
        "colab": {
          "base_uri": "https://localhost:8080/"
        },
        "id": "3948ef19",
        "outputId": "31d8fc40-c704-4e6b-8238-ad6a217438db"
      },
      "outputs": [
        {
          "output_type": "stream",
          "name": "stdout",
          "text": [
            "torch.Size([128, 32])\n"
          ]
        }
      ],
      "source": [
        "layer2_outputs = layer2(relu1_outputs)\n",
        "print(layer2_outputs.shape)"
      ]
    },
    {
      "cell_type": "code",
      "execution_count": null,
      "id": "a9639881",
      "metadata": {
        "id": "a9639881"
      },
      "outputs": [],
      "source": [
        "output_size = 10\n",
        "layer3 = nn.Linear(hidden2_size,output_size)"
      ]
    },
    {
      "cell_type": "code",
      "execution_count": null,
      "id": "2786693f",
      "metadata": {
        "colab": {
          "base_uri": "https://localhost:8080/"
        },
        "id": "2786693f",
        "outputId": "48d0aed9-a9e5-4802-a32e-d77d0b2df4e1"
      },
      "outputs": [
        {
          "output_type": "stream",
          "name": "stdout",
          "text": [
            "min(layer2_outputs): -0.35356763005256653\n",
            "min(relu2_outputs): 0.0\n"
          ]
        }
      ],
      "source": [
        "relu2_outputs = F.relu(layer2_outputs)\n",
        "print('min(layer2_outputs):', torch.min(layer2_outputs).item())\n",
        "print('min(relu2_outputs):', torch.min(relu2_outputs).item())"
      ]
    },
    {
      "cell_type": "code",
      "execution_count": null,
      "id": "a7899197",
      "metadata": {
        "colab": {
          "base_uri": "https://localhost:8080/"
        },
        "id": "a7899197",
        "outputId": "4ed15f8f-93ed-42ed-f98c-d27b3d30abc2"
      },
      "outputs": [
        {
          "output_type": "stream",
          "name": "stdout",
          "text": [
            "torch.Size([128, 10])\n"
          ]
        }
      ],
      "source": [
        "layer3_outputs = layer3(relu2_outputs)\n",
        "print(layer3_outputs.shape)"
      ]
    },
    {
      "cell_type": "code",
      "execution_count": null,
      "id": "4eaf97c9",
      "metadata": {
        "colab": {
          "base_uri": "https://localhost:8080/"
        },
        "id": "4eaf97c9",
        "outputId": "22f41b58-72cf-4884-958b-3b48048c6324"
      },
      "outputs": [
        {
          "output_type": "execute_result",
          "data": {
            "text/plain": [
              "torch.Size([128, 784])"
            ]
          },
          "metadata": {},
          "execution_count": 16
        }
      ],
      "source": [
        "inputs.shape"
      ]
    },
    {
      "cell_type": "code",
      "execution_count": null,
      "id": "4fa14718",
      "metadata": {
        "id": "4fa14718"
      },
      "outputs": [],
      "source": [
        "F.cross_entropy(layer3_outputs, labels)\n",
        "# Expanded version of layer2(F.relu(layer1(inputs)))\n",
        "inner = F.relu(inputs @ layer1.weight.t() + layer1.bias)\n",
        "middle = F.relu(inner @ layer2.weight.t() + layer2.bias)\n",
        "outer = ((middle)) @ layer3.weight.t() + layer3.bias\n",
        "outputs = outer"
      ]
    },
    {
      "cell_type": "code",
      "execution_count": null,
      "id": "ac307f31",
      "metadata": {
        "colab": {
          "base_uri": "https://localhost:8080/"
        },
        "id": "ac307f31",
        "outputId": "75998215-0d3d-493a-fc6c-e9494c9b948a"
      },
      "outputs": [
        {
          "output_type": "execute_result",
          "data": {
            "text/plain": [
              "True"
            ]
          },
          "metadata": {},
          "execution_count": 18
        }
      ],
      "source": [
        "torch.allclose(outputs, layer3_outputs, 1e-3)"
      ]
    },
    {
      "cell_type": "code",
      "execution_count": null,
      "id": "246d4aeb",
      "metadata": {
        "id": "246d4aeb"
      },
      "outputs": [],
      "source": [
        "# Same as layer3(layer2(layer1(inputs)))\n",
        "outputs3 = ((inputs @ layer1.weight.t() + layer1.bias) @ layer2.weight.t() + layer2.bias) @ layer3.weight.t() + layer3.bias"
      ]
    },
    {
      "cell_type": "code",
      "execution_count": null,
      "id": "1dfdbd28",
      "metadata": {
        "id": "1dfdbd28"
      },
      "outputs": [],
      "source": [
        "# Create a single layer to replace the 3 linear layers\n",
        "combined_layer = nn.Linear(input_size, output_size)\n",
        "\n",
        "combined_layer.weight.data = layer2.weight @ layer1.weight\n",
        "combined_layer.bias.data = layer1.bias @ layer2.weight.t() + layer2.bias\n",
        "\n",
        "combined_layer.weight.data = layer3.weight @ combined_layer.weight.data\n",
        "combined_layer.bias.data = combined_layer.bias.data @ layer3.weight.t() + layer3.bias"
      ]
    },
    {
      "cell_type": "code",
      "execution_count": null,
      "id": "f41e4e62",
      "metadata": {
        "id": "f41e4e62"
      },
      "outputs": [],
      "source": [
        "# Same as combined_layer(inputs)\n",
        "outputs4 = inputs @ combined_layer.weight.t() + combined_layer.bias"
      ]
    },
    {
      "cell_type": "code",
      "execution_count": null,
      "id": "47d2b4d5",
      "metadata": {
        "colab": {
          "base_uri": "https://localhost:8080/"
        },
        "id": "47d2b4d5",
        "outputId": "d6c24755-2ef4-47b7-e8a0-955f40931d3c"
      },
      "outputs": [
        {
          "output_type": "execute_result",
          "data": {
            "text/plain": [
              "True"
            ]
          },
          "metadata": {},
          "execution_count": 22
        }
      ],
      "source": [
        "torch.allclose(outputs3, outputs4, 1e-3)"
      ]
    },
    {
      "cell_type": "code",
      "execution_count": null,
      "id": "1f1417ed",
      "metadata": {
        "id": "1f1417ed"
      },
      "outputs": [],
      "source": [
        "class MnistModel(nn.Module):\n",
        "    \"\"\"Feedfoward neural network with 1 hidden layer\"\"\"\n",
        "    def __init__(self, in_size, hidden1_size,hidden2_size,out_size):\n",
        "        super().__init__()\n",
        "        # hidden layer\n",
        "        self.linear1 = nn.Linear(in_size, hidden1_size)\n",
        "        self.linear2 = nn.Linear(hidden1_size,hidden2_size)\n",
        "        # output layer\n",
        "        self.linear3 = nn.Linear(hidden2_size, out_size)\n",
        "        \n",
        "    def forward(self, xb):\n",
        "        # Flatten the image tensors\n",
        "        xb = xb.view(xb.size(0), -1)\n",
        "        # Get intermediate outputs using hidden layer\n",
        "        out = self.linear1(xb)\n",
        "        # Apply activation function\n",
        "        out = F.relu(out) #this is what you removed\n",
        "        # Get predictions using output layer\n",
        "        out = self.linear2(out)\n",
        "        out = F.relu(out)\n",
        "        out = self.linear3(out)\n",
        "        return out\n",
        "    \n",
        "    def training_step(self, batch):\n",
        "        images, labels = batch \n",
        "        out = self(images)                  # Generate predictions\n",
        "        loss = F.cross_entropy(out, labels) # Calculate loss\n",
        "        return loss\n",
        "    \n",
        "    def validation_step(self, batch):\n",
        "        images, labels = batch \n",
        "        out = self(images)                    # Generate predictions\n",
        "        loss = F.cross_entropy(out, labels)   # Calculate loss\n",
        "        acc = accuracy(out, labels)           # Calculate accuracy\n",
        "        return {'val_loss': loss, 'val_acc': acc}\n",
        "        \n",
        "    def validation_epoch_end(self, outputs):\n",
        "        batch_losses = [x['val_loss'] for x in outputs]\n",
        "        epoch_loss = torch.stack(batch_losses).mean()   # Combine losses\n",
        "        batch_accs = [x['val_acc'] for x in outputs]\n",
        "        epoch_acc = torch.stack(batch_accs).mean()      # Combine accuracies\n",
        "        return {'val_loss': epoch_loss.item(), 'val_acc': epoch_acc.item()}\n",
        "    \n",
        "    def epoch_end(self, epoch, result):\n",
        "        print(\"Epoch [{}], val_loss: {:.4f}, val_acc: {:.4f}\".format(epoch, result['val_loss'], result['val_acc']))"
      ]
    },
    {
      "cell_type": "code",
      "execution_count": null,
      "id": "a5bb72bc",
      "metadata": {
        "id": "a5bb72bc"
      },
      "outputs": [],
      "source": [
        "def accuracy(outputs, labels):\n",
        "    _, preds = torch.max(outputs, dim=1)\n",
        "    return torch.tensor(torch.sum(preds == labels).item() / len(preds))"
      ]
    },
    {
      "cell_type": "code",
      "execution_count": null,
      "id": "0fd35280",
      "metadata": {
        "id": "0fd35280"
      },
      "outputs": [],
      "source": [
        "input_size = 784\n",
        "hidden1_size = 256\n",
        "hidden2_size = 32# you can change this\n",
        "num_classes = 10"
      ]
    },
    {
      "cell_type": "code",
      "execution_count": null,
      "id": "1f7d6d96",
      "metadata": {
        "id": "1f7d6d96"
      },
      "outputs": [],
      "source": [
        "model = MnistModel(input_size, hidden1_size=256,hidden2_size = 32, out_size=num_classes)"
      ]
    },
    {
      "cell_type": "code",
      "execution_count": null,
      "id": "6a136674",
      "metadata": {
        "id": "6a136674"
      },
      "outputs": [],
      "source": []
    },
    {
      "cell_type": "code",
      "execution_count": null,
      "id": "ec096e09",
      "metadata": {
        "id": "ec096e09"
      },
      "outputs": [],
      "source": [
        "#doubtful\n",
        "\n",
        "(x_train, y_train), (x_test, y_test), min_pixel_value, max_pixel_value = load_mnist()\n",
        "\n",
        "x_train = np.transpose(x_train, (0, 3, 1, 2)).astype(np.float32)\n",
        "x_test = np.transpose(x_test, (0, 3, 1, 2)).astype(np.float32)"
      ]
    },
    {
      "cell_type": "code",
      "execution_count": null,
      "id": "761850b7",
      "metadata": {
        "id": "761850b7"
      },
      "outputs": [],
      "source": [
        "testno = 0\n",
        "log_3layers = {}\n",
        "log3layers = {}\n",
        "num_epochs = 1\n",
        "learning_rate = 0.01"
      ]
    },
    {
      "cell_type": "code",
      "execution_count": null,
      "id": "62ca49e4",
      "metadata": {
        "id": "62ca49e4"
      },
      "outputs": [],
      "source": [
        "criterion = nn.CrossEntropyLoss()\n",
        "optimizer = optim.Adam(model.parameters(), lr=learning_rate)"
      ]
    },
    {
      "cell_type": "code",
      "execution_count": null,
      "id": "673b8012",
      "metadata": {
        "id": "673b8012"
      },
      "outputs": [],
      "source": [
        "def accuracy(predictions):\n",
        "    return (np.sum(np.argmax(predictions, axis=1) == np.argmax(y_test, axis=1)) / len(y_test))"
      ]
    },
    {
      "cell_type": "code",
      "execution_count": null,
      "id": "fc176e24",
      "metadata": {
        "id": "fc176e24"
      },
      "outputs": [],
      "source": [
        "classifier = PyTorchClassifier(\n",
        "    model=model,\n",
        "    clip_values=(min_pixel_value, max_pixel_value),\n",
        "    loss=criterion,\n",
        "    optimizer=optimizer,\n",
        "    input_shape=(1, 28, 28),\n",
        "    nb_classes=10,\n",
        ")\n"
      ]
    },
    {
      "cell_type": "code",
      "execution_count": null,
      "id": "99486095",
      "metadata": {
        "id": "99486095"
      },
      "outputs": [],
      "source": []
    },
    {
      "cell_type": "code",
      "execution_count": null,
      "id": "5e89c96c",
      "metadata": {
        "id": "5e89c96c"
      },
      "outputs": [],
      "source": [
        "def trainandtest(n):\n",
        "    for i in range(n):\n",
        "        global testno\n",
        "        testno+=1\n",
        "        classifier.fit(x_train, y_train, batch_size=128, nb_epochs=num_epochs)\n",
        "        benign_predictions = classifier.predict(x_test)\n",
        "        benign_accuracy = accuracy(benign_predictions)*100\n",
        "        intensity = 0.3\n",
        "        attack = FastGradientMethod(estimator=classifier, eps=intensity)\n",
        "        x_test_adv = attack.generate(x=x_test)\n",
        "        \n",
        "        \n",
        "        adv_predictions = classifier.predict(x_test_adv)\n",
        "        adv_accuracy = accuracy(adv_predictions) * 100\n",
        "        e = datetime.datetime.now()\n",
        "        log3layers[testno] = {'Test Number':testno,\n",
        "                              'Learning Rate': learning_rate,\n",
        "                              'Number of Epochs':num_epochs,\n",
        "                              'Accuracy with Benign Test Set':benign_accuracy,\n",
        "                              'Accuracy with Adversarial Test Set':adv_accuracy,\n",
        "                              'EPS':intensity,\n",
        "                             'Machine':user\n",
        "                             }\n",
        "        print(\"iteration \",i+1,\" over\")\n",
        "        \n"
      ]
    },
    {
      "cell_type": "code",
      "execution_count": null,
      "id": "583a455a",
      "metadata": {
        "scrolled": false,
        "colab": {
          "base_uri": "https://localhost:8080/"
        },
        "id": "583a455a",
        "outputId": "f505990f-696c-4e5a-bd41-235f3bed4701"
      },
      "outputs": [
        {
          "output_type": "stream",
          "name": "stdout",
          "text": [
            "iteration  1  over\n",
            "iteration  2  over\n",
            "iteration  3  over\n",
            "iteration  4  over\n",
            "iteration  5  over\n",
            "iteration  6  over\n",
            "iteration  7  over\n",
            "iteration  8  over\n",
            "iteration  9  over\n",
            "iteration  10  over\n",
            "iteration  11  over\n",
            "iteration  12  over\n",
            "iteration  13  over\n",
            "iteration  14  over\n",
            "iteration  15  over\n",
            "iteration  16  over\n",
            "iteration  17  over\n",
            "iteration  18  over\n",
            "iteration  19  over\n",
            "iteration  20  over\n",
            "iteration  21  over\n",
            "iteration  22  over\n",
            "iteration  23  over\n",
            "iteration  24  over\n",
            "iteration  25  over\n",
            "iteration  26  over\n",
            "iteration  27  over\n",
            "iteration  28  over\n",
            "iteration  29  over\n",
            "iteration  30  over\n",
            "iteration  31  over\n",
            "iteration  32  over\n",
            "iteration  33  over\n",
            "iteration  34  over\n",
            "iteration  35  over\n",
            "iteration  36  over\n",
            "iteration  37  over\n",
            "iteration  38  over\n",
            "iteration  39  over\n",
            "iteration  40  over\n",
            "iteration  41  over\n",
            "iteration  42  over\n",
            "iteration  43  over\n",
            "iteration  44  over\n",
            "iteration  45  over\n",
            "iteration  46  over\n",
            "iteration  47  over\n",
            "iteration  48  over\n",
            "iteration  49  over\n",
            "iteration  50  over\n",
            "iteration  51  over\n",
            "iteration  52  over\n",
            "iteration  53  over\n",
            "iteration  54  over\n",
            "iteration  55  over\n",
            "iteration  56  over\n",
            "iteration  57  over\n",
            "iteration  58  over\n",
            "iteration  59  over\n",
            "iteration  60  over\n",
            "iteration  61  over\n",
            "iteration  62  over\n",
            "iteration  63  over\n",
            "iteration  64  over\n",
            "iteration  65  over\n",
            "iteration  66  over\n",
            "iteration  67  over\n",
            "iteration  68  over\n",
            "iteration  69  over\n",
            "iteration  70  over\n",
            "iteration  71  over\n",
            "iteration  72  over\n",
            "iteration  73  over\n",
            "iteration  74  over\n",
            "iteration  75  over\n",
            "iteration  76  over\n",
            "iteration  77  over\n",
            "iteration  78  over\n",
            "iteration  79  over\n",
            "iteration  80  over\n",
            "iteration  81  over\n",
            "iteration  82  over\n",
            "iteration  83  over\n",
            "iteration  84  over\n",
            "iteration  85  over\n",
            "iteration  86  over\n",
            "iteration  87  over\n",
            "iteration  88  over\n",
            "iteration  89  over\n",
            "iteration  90  over\n"
          ]
        }
      ],
      "source": [
        "trainandtest(100)"
      ]
    },
    {
      "cell_type": "code",
      "execution_count": null,
      "id": "a77ee1db",
      "metadata": {
        "id": "a77ee1db",
        "colab": {
          "base_uri": "https://localhost:8080/",
          "height": 181
        },
        "outputId": "673af029-cc7e-439d-97ab-67dc87d08423"
      },
      "outputs": [
        {
          "output_type": "error",
          "ename": "NameError",
          "evalue": "ignored",
          "traceback": [
            "\u001b[0;31m---------------------------------------------------------------------------\u001b[0m",
            "\u001b[0;31mNameError\u001b[0m                                 Traceback (most recent call last)",
            "\u001b[0;32m<ipython-input-1-b6db59ec2b99>\u001b[0m in \u001b[0;36m<module>\u001b[0;34m\u001b[0m\n\u001b[0;32m----> 1\u001b[0;31m \u001b[0mdf\u001b[0m \u001b[0;34m=\u001b[0m \u001b[0mpd\u001b[0m\u001b[0;34m.\u001b[0m\u001b[0mDataFrame\u001b[0m\u001b[0;34m(\u001b[0m\u001b[0mdata\u001b[0m \u001b[0;34m=\u001b[0m \u001b[0mlog3layers\u001b[0m\u001b[0;34m)\u001b[0m\u001b[0;34m\u001b[0m\u001b[0;34m\u001b[0m\u001b[0m\n\u001b[0m\u001b[1;32m      2\u001b[0m \u001b[0mdf\u001b[0m\u001b[0;34m.\u001b[0m\u001b[0mT\u001b[0m\u001b[0;34m\u001b[0m\u001b[0;34m\u001b[0m\u001b[0m\n",
            "\u001b[0;31mNameError\u001b[0m: name 'pd' is not defined"
          ]
        }
      ],
      "source": [
        "df = pd.DataFrame(data = log3layers)\n",
        "df.T"
      ]
    },
    {
      "cell_type": "code",
      "source": [],
      "metadata": {
        "id": "9yDe53kbVmqu"
      },
      "id": "9yDe53kbVmqu",
      "execution_count": null,
      "outputs": []
    }
  ],
  "metadata": {
    "kernelspec": {
      "display_name": "Python 3",
      "language": "python",
      "name": "python3"
    },
    "language_info": {
      "codemirror_mode": {
        "name": "ipython",
        "version": 3
      },
      "file_extension": ".py",
      "mimetype": "text/x-python",
      "name": "python",
      "nbconvert_exporter": "python",
      "pygments_lexer": "ipython3",
      "version": "3.8.8"
    },
    "colab": {
      "provenance": []
    },
    "accelerator": "GPU",
    "gpuClass": "standard"
  },
  "nbformat": 4,
  "nbformat_minor": 5
}